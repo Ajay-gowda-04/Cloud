{
 "cells": [
  {
   "cell_type": "code",
   "execution_count": 3,
   "metadata": {},
   "outputs": [
    {
     "name": "stdout",
     "output_type": "stream",
     "text": [
      "hello\n",
      "Myself Ajay, Senior Product Manager\n"
     ]
    }
   ],
   "source": [
    "print(\"hello\")\n",
    "print(\"Myself Ajay, Senior Product Manager\")"
   ]
  },
  {
   "cell_type": "markdown",
   "metadata": {},
   "source": [
    "# Enhancing Cloud Skills with Generative AI\n",
    "\n",
    "Hi, I'm Ajay, a Senior Product Manager applying the skills I gained in the Generative AI for Product Managers Specialization to enhance my cloud computing expertise. I've enrolled in this course to further accelerate my Cloud learning journey. To expedite my workflow, I'm utilizing Gen AI tools to translate my notes and ideas into Markdown format, like this one."
   ]
  },
  {
   "cell_type": "code",
   "execution_count": null,
   "metadata": {},
   "outputs": [],
   "source": []
  }
 ],
 "metadata": {
  "kernelspec": {
   "display_name": "Python 3",
   "language": "python",
   "name": "python3"
  },
  "language_info": {
   "codemirror_mode": {
    "name": "ipython",
    "version": 3
   },
   "file_extension": ".py",
   "mimetype": "text/x-python",
   "name": "python",
   "nbconvert_exporter": "python",
   "pygments_lexer": "ipython3",
   "version": "3.7.6"
  }
 },
 "nbformat": 4,
 "nbformat_minor": 4
}
